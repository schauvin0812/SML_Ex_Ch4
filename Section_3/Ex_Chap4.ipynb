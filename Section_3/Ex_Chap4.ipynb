{
 "cells": [
  {
   "cell_type": "markdown",
   "id": "e26e7001",
   "metadata": {},
   "source": [
    "# Exercises - Chap. 4"
   ]
  },
  {
   "cell_type": "markdown",
   "id": "520f726d",
   "metadata": {},
   "source": [
    "## Ex. 6, p 191"
   ]
  },
  {
   "cell_type": "markdown",
   "id": "e15f3bf8",
   "metadata": {},
   "source": [
    "#### (a) Estimate the probability that a student who studies for 40 h and has an undergrad GPA of 3.5 gets an A in the class."
   ]
  },
  {
   "cell_type": "code",
   "execution_count": 3,
   "id": "653e7aec",
   "metadata": {},
   "outputs": [
    {
     "data": {
      "text/html": [
       "-0.5"
      ],
      "text/latex": [
       "-0.5"
      ],
      "text/markdown": [
       "-0.5"
      ],
      "text/plain": [
       "[1] -0.5"
      ]
     },
     "metadata": {},
     "output_type": "display_data"
    }
   ],
   "source": [
    "log_r <- (-6+0.05*40+1*3.5)\n",
    "log_r"
   ]
  },
  {
   "cell_type": "code",
   "execution_count": 4,
   "id": "8ff23207",
   "metadata": {},
   "outputs": [
    {
     "data": {
      "text/html": [
       "0.377540668798145"
      ],
      "text/latex": [
       "0.377540668798145"
      ],
      "text/markdown": [
       "0.377540668798145"
      ],
      "text/plain": [
       "[1] 0.3775407"
      ]
     },
     "metadata": {},
     "output_type": "display_data"
    }
   ],
   "source": [
    "proba <- exp(log_r)/(1+exp(log_r))\n",
    "proba"
   ]
  },
  {
   "cell_type": "markdown",
   "id": "cf0f20d4",
   "metadata": {},
   "source": [
    "The probability that a student who studies for 40h and has an undergrad GPA gets and A in the class is 37.75%."
   ]
  },
  {
   "cell_type": "markdown",
   "id": "321de884",
   "metadata": {},
   "source": [
    "#### (b) How many hours would the student in part (a) need to study to have a 50% chance of getting an A in the class?"
   ]
  },
  {
   "cell_type": "code",
   "execution_count": 5,
   "id": "72c9de14",
   "metadata": {},
   "outputs": [],
   "source": [
    "f <- function(x) {exp(-6+0.05*x+1*3.5)/(1+exp(-6+0.05*x+1*3.5))}"
   ]
  },
  {
   "cell_type": "code",
   "execution_count": 6,
   "id": "e78e05db",
   "metadata": {},
   "outputs": [],
   "source": [
    "result <- uniroot(function(x) f(x) - 0.5, c(0,100))"
   ]
  },
  {
   "cell_type": "code",
   "execution_count": 7,
   "id": "e8a41083",
   "metadata": {},
   "outputs": [
    {
     "data": {
      "text/html": [
       "50"
      ],
      "text/latex": [
       "50"
      ],
      "text/markdown": [
       "50"
      ],
      "text/plain": [
       "[1] 50"
      ]
     },
     "metadata": {},
     "output_type": "display_data"
    }
   ],
   "source": [
    "result$root"
   ]
  },
  {
   "cell_type": "markdown",
   "id": "f1fc2e51",
   "metadata": {},
   "source": [
    "A student would need to study 50 hours to have a 50% chance of getting an A in the class."
   ]
  },
  {
   "cell_type": "markdown",
   "id": "e443f406",
   "metadata": {},
   "source": [
    "# Ex. 8, p 192"
   ]
  },
  {
   "cell_type": "markdown",
   "id": "a3ed9d45",
   "metadata": {},
   "source": [
    "#### Based on these results, which method should we prefer to use for classification of new observations? Why?"
   ]
  },
  {
   "cell_type": "markdown",
   "id": "782451e6",
   "metadata": {},
   "source": [
    "Even if the logistic regression method has a lower error rate on the training data set (20%), it has a higher rate on the test set (30%), this indicates that the method is overfitting to the training data. Compared to the 1-nearest neighbors method which has a training and a test error rate of approximatively 18%, the logistic regression's difference between the test error rate and the training error rate shows that it is not generalizing well to new observations. \n",
    "\n",
    "However, the 1-nearest neighbors method has a relatively consistent error rate on both data sets, so it could be easily generalize to new observations. So the method we should prefer for classification of new observations is the 1-nearest neighbors method."
   ]
  },
  {
   "cell_type": "markdown",
   "id": "722fbd5e",
   "metadata": {},
   "source": [
    "# Ex. 9, p 192"
   ]
  },
  {
   "cell_type": "markdown",
   "id": "004965fb",
   "metadata": {},
   "source": [
    "#### (a) On average, what fraction of people with an odds of 0.37 of defaulting on their credit card payment will in fact default?"
   ]
  },
  {
   "cell_type": "code",
   "execution_count": 13,
   "id": "712c5271",
   "metadata": {},
   "outputs": [
    {
     "data": {
      "text/html": [
       "0.27007299270073"
      ],
      "text/latex": [
       "0.27007299270073"
      ],
      "text/markdown": [
       "0.27007299270073"
      ],
      "text/plain": [
       "[1] 0.270073"
      ]
     },
     "metadata": {},
     "output_type": "display_data"
    }
   ],
   "source": [
    "odds <- 0.37\n",
    "p_odds <- odds/(1+odds)\n",
    "p_odds"
   ]
  },
  {
   "cell_type": "markdown",
   "id": "aa9b6de7",
   "metadata": {},
   "source": [
    "On average, about 27% of people with an odds of 0.37 of defaulting on their credit card payment will actually default."
   ]
  },
  {
   "cell_type": "markdown",
   "id": "129174d0",
   "metadata": {},
   "source": [
    "#### (b) Suppose that an individual has a 16% chance of defaulting on her credit card payment. What are the odds that she will default?"
   ]
  },
  {
   "cell_type": "code",
   "execution_count": 14,
   "id": "a7913828",
   "metadata": {},
   "outputs": [
    {
     "data": {
      "text/html": [
       "0.19047619047619"
      ],
      "text/latex": [
       "0.19047619047619"
      ],
      "text/markdown": [
       "0.19047619047619"
      ],
      "text/plain": [
       "[1] 0.1904762"
      ]
     },
     "metadata": {},
     "output_type": "display_data"
    }
   ],
   "source": [
    "p_odds <- 0.16\n",
    "odds <- p_odds/(1-p_odds)\n",
    "odds"
   ]
  },
  {
   "cell_type": "markdown",
   "id": "2df53643",
   "metadata": {},
   "source": [
    "The odds for an individual with 16% chance of defaulting on her credit card payment that she will in fact default is 0.19."
   ]
  }
 ],
 "metadata": {
  "kernelspec": {
   "display_name": "R",
   "language": "R",
   "name": "ir"
  },
  "language_info": {
   "codemirror_mode": "r",
   "file_extension": ".r",
   "mimetype": "text/x-r-source",
   "name": "R",
   "pygments_lexer": "r",
   "version": "4.1.3"
  }
 },
 "nbformat": 4,
 "nbformat_minor": 5
}
